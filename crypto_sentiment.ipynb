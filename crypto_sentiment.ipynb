{
 "cells": [
  {
   "cell_type": "markdown",
   "metadata": {},
   "source": [
    "# Unit 12 - Natural Language Processing (\"Tales from the Crypto\")\n",
    "---\n"
   ]
  },
  {
   "cell_type": "markdown",
   "metadata": {},
   "source": [
    "## 1. Sentiment Analysis"
   ]
  },
  {
   "cell_type": "code",
   "execution_count": null,
   "metadata": {},
   "outputs": [],
   "source": [
    "# Initial imports\n",
    "import os\n",
    "import pandas as pd\n",
    "from dotenv import load_dotenv\n",
    "import nltk as nltk\n",
    "import datetime\n",
    "nltk.download('vader_lexicon')\n",
    "from nltk.sentiment.vader import SentimentIntensityAnalyzer\n",
    "from newsapi import NewsApiClient\n",
    "from collections import Counter\n",
    "\n",
    "from nltk.tokenize import word_tokenize, sent_tokenize\n",
    "from nltk.corpus import stopwords\n",
    "from nltk.stem import WordNetLemmatizer, PorterStemmer\n",
    "from string import punctuation\n",
    "import re\n",
    "\n",
    "from collections import Counter\n",
    "from nltk import ngrams\n",
    "\n",
    "import matplotlib.pyplot as plt\n",
    "\n",
    "from wordcloud import WordCloud\n",
    "\n",
    "import spacy\n",
    "from spacy import displacy\n",
    "\n",
    " \n",
    "# !python -m spacy download en_core_web_sm # Download the language model for SpaCy\n",
    "\n",
    "analyzer = SentimentIntensityAnalyzer()\n",
    "\n",
    "%matplotlib inline"
   ]
  },
  {
   "cell_type": "code",
   "execution_count": 2,
   "metadata": {},
   "outputs": [],
   "source": [
    "def get_article_sentiment(article):\n",
    "\ttry:\n",
    "\t\ttext = article[\"content\"]\n",
    "\t\tdate = article[\"publishedAt\"][:10]\n",
    "\t\tsentiment = analyzer.polarity_scores(text)\n",
    "\t\tcompound = sentiment[\"compound\"]\n",
    "\t\tpos = sentiment[\"pos\"]\n",
    "\t\tneu = sentiment[\"neu\"]\n",
    "\t\tneg = sentiment[\"neg\"]\n",
    "\t\tsentiment = {\n",
    "\t\t\t\"text\":text,\n",
    "\t\t\t\"date\":date,\n",
    "\t\t\t\"compound\":compound,\n",
    "\t\t\t\"positive\":pos,\n",
    "\t\t\t\"neutral\":neu,\n",
    "\t\t\t\"negative\":neg,\n",
    "\t\t}\n",
    "\texcept AttributeError:\n",
    "\t\tpass\n",
    "\treturn sentiment"
   ]
  },
  {
   "cell_type": "code",
   "execution_count": 3,
   "metadata": {},
   "outputs": [],
   "source": [
    "def find_tokens(raw_text_array):\n",
    "\tlines = []\n",
    "\tfor r in raw_text_array:\n",
    "\t\tline = r.casefold()\n",
    "\t\ttokens_a = word_tokenize(line)\n",
    "\t\ttokens_b = [t for t in tokens_a if t.isalnum()]\n",
    "\t\ttokens_c = [t for t in tokens_b if t not in s_words]\n",
    "\t\ttokens_d = [t for t in tokens_c if not t.isdigit()]\n",
    "\t\tlines.append(tokens_d)\n",
    "\t\t\n",
    "\tall_tokens = \"\"\n",
    "\tfor l in lines:\n",
    "\t\tl_str = \" \".join(l)\n",
    "\t\tall_tokens += l_str\n",
    "\t\t\n",
    "\treturn all_tokens"
   ]
  },
  {
   "cell_type": "code",
   "execution_count": 4,
   "metadata": {},
   "outputs": [],
   "source": [
    "load_dotenv()\n",
    "api_key = os.getenv(\"NEWSAPI\") # Read api key as environment variable"
   ]
  },
  {
   "cell_type": "code",
   "execution_count": 5,
   "metadata": {},
   "outputs": [],
   "source": [
    "newsapi = NewsApiClient(api_key=api_key) # Create a newsapi client"
   ]
  },
  {
   "cell_type": "code",
   "execution_count": 6,
   "metadata": {
    "tags": []
   },
   "outputs": [],
   "source": [
    "btc_news = newsapi.get_everything(q=\"Bitcoin\",language=\"en\")\n",
    "# btc_news\n",
    "# btc_news[\"articles\"][0] # Fetch the Bitcoin news articles"
   ]
  },
  {
   "cell_type": "code",
   "execution_count": 7,
   "metadata": {
    "tags": []
   },
   "outputs": [],
   "source": [
    "eth_news = newsapi.get_everything(q=\"Ethereum\",language=\"en\")\n",
    "# eth_news\n",
    "# eth_news[\"articles\"][0] # Fetch the Ethereum news articles"
   ]
  },
  {
   "cell_type": "code",
   "execution_count": 8,
   "metadata": {
    "tags": []
   },
   "outputs": [],
   "source": [
    "btc_articles =  btc_news[\"articles\"]\n",
    "# btc_articles"
   ]
  },
  {
   "cell_type": "code",
   "execution_count": 9,
   "metadata": {
    "tags": []
   },
   "outputs": [],
   "source": [
    "btc_sentiments = [get_article_sentiment(article) for article in btc_articles]\n",
    "# btc_sentiments"
   ]
  },
  {
   "cell_type": "code",
   "execution_count": 10,
   "metadata": {
    "tags": []
   },
   "outputs": [],
   "source": [
    "eth_articles =  eth_news[\"articles\"]\n",
    "# eth_articles"
   ]
  },
  {
   "cell_type": "code",
   "execution_count": 11,
   "metadata": {
    "tags": []
   },
   "outputs": [],
   "source": [
    "eth_sentiments = [get_article_sentiment(article) for article in eth_articles]\n",
    "# eth_sentiments"
   ]
  },
  {
   "cell_type": "code",
   "execution_count": 12,
   "metadata": {},
   "outputs": [
    {
     "name": "stdout",
     "output_type": "stream",
     "text": [
      "\n",
      "Bitcoin Sentiment\n"
     ]
    },
    {
     "data": {
      "text/html": [
       "<div>\n",
       "<style scoped>\n",
       "    .dataframe tbody tr th:only-of-type {\n",
       "        vertical-align: middle;\n",
       "    }\n",
       "\n",
       "    .dataframe tbody tr th {\n",
       "        vertical-align: top;\n",
       "    }\n",
       "\n",
       "    .dataframe thead th {\n",
       "        text-align: right;\n",
       "    }\n",
       "</style>\n",
       "<table border=\"1\" class=\"dataframe\">\n",
       "  <thead>\n",
       "    <tr style=\"text-align: right;\">\n",
       "      <th></th>\n",
       "      <th>text</th>\n",
       "      <th>compound</th>\n",
       "      <th>positive</th>\n",
       "      <th>neutral</th>\n",
       "      <th>negative</th>\n",
       "    </tr>\n",
       "    <tr>\n",
       "      <th>date</th>\n",
       "      <th></th>\n",
       "      <th></th>\n",
       "      <th></th>\n",
       "      <th></th>\n",
       "      <th></th>\n",
       "    </tr>\n",
       "  </thead>\n",
       "  <tbody>\n",
       "    <tr>\n",
       "      <th>2022-06-03</th>\n",
       "      <td>New York lawmakers have passed a bill\\r\\n that...</td>\n",
       "      <td>-0.5574</td>\n",
       "      <td>0.000</td>\n",
       "      <td>0.902</td>\n",
       "      <td>0.098</td>\n",
       "    </tr>\n",
       "    <tr>\n",
       "      <th>2022-06-09</th>\n",
       "      <td>Rapper and entrepreneur Shawn Carter, better k...</td>\n",
       "      <td>0.4404</td>\n",
       "      <td>0.077</td>\n",
       "      <td>0.923</td>\n",
       "      <td>0.000</td>\n",
       "    </tr>\n",
       "    <tr>\n",
       "      <th>2022-06-08</th>\n",
       "      <td>A new study on bitcoin calls into question whe...</td>\n",
       "      <td>0.5267</td>\n",
       "      <td>0.124</td>\n",
       "      <td>0.876</td>\n",
       "      <td>0.000</td>\n",
       "    </tr>\n",
       "    <tr>\n",
       "      <th>2022-06-05</th>\n",
       "      <td>Image caption, President Faustin-Archange Toua...</td>\n",
       "      <td>0.5106</td>\n",
       "      <td>0.164</td>\n",
       "      <td>0.836</td>\n",
       "      <td>0.000</td>\n",
       "    </tr>\n",
       "    <tr>\n",
       "      <th>2022-06-02</th>\n",
       "      <td>You can now reportedly pay for your burritos a...</td>\n",
       "      <td>-0.1027</td>\n",
       "      <td>0.000</td>\n",
       "      <td>0.960</td>\n",
       "      <td>0.040</td>\n",
       "    </tr>\n",
       "    <tr>\n",
       "      <th>...</th>\n",
       "      <td>...</td>\n",
       "      <td>...</td>\n",
       "      <td>...</td>\n",
       "      <td>...</td>\n",
       "      <td>...</td>\n",
       "    </tr>\n",
       "    <tr>\n",
       "      <th>2022-06-13</th>\n",
       "      <td>NEW YORK, June 13 (Reuters) - Binance U.S. and...</td>\n",
       "      <td>0.6597</td>\n",
       "      <td>0.141</td>\n",
       "      <td>0.859</td>\n",
       "      <td>0.000</td>\n",
       "    </tr>\n",
       "    <tr>\n",
       "      <th>2022-06-15</th>\n",
       "      <td>SINGAPORE, June 15 (Reuters) - Cryptocurrency ...</td>\n",
       "      <td>0.2732</td>\n",
       "      <td>0.063</td>\n",
       "      <td>0.937</td>\n",
       "      <td>0.000</td>\n",
       "    </tr>\n",
       "    <tr>\n",
       "      <th>2022-06-25</th>\n",
       "      <td>We are excited to bring Transform 2022 back in...</td>\n",
       "      <td>0.8655</td>\n",
       "      <td>0.263</td>\n",
       "      <td>0.737</td>\n",
       "      <td>0.000</td>\n",
       "    </tr>\n",
       "    <tr>\n",
       "      <th>2022-06-11</th>\n",
       "      <td>At CoinDesk's Consensus Festival here in Austi...</td>\n",
       "      <td>0.3182</td>\n",
       "      <td>0.136</td>\n",
       "      <td>0.787</td>\n",
       "      <td>0.076</td>\n",
       "    </tr>\n",
       "    <tr>\n",
       "      <th>2022-06-27</th>\n",
       "      <td>US stocks finished a choppy session lower on M...</td>\n",
       "      <td>-0.2960</td>\n",
       "      <td>0.000</td>\n",
       "      <td>0.937</td>\n",
       "      <td>0.062</td>\n",
       "    </tr>\n",
       "  </tbody>\n",
       "</table>\n",
       "<p>100 rows × 5 columns</p>\n",
       "</div>"
      ],
      "text/plain": [
       "                                                         text  compound  \\\n",
       "date                                                                      \n",
       "2022-06-03  New York lawmakers have passed a bill\\r\\n that...   -0.5574   \n",
       "2022-06-09  Rapper and entrepreneur Shawn Carter, better k...    0.4404   \n",
       "2022-06-08  A new study on bitcoin calls into question whe...    0.5267   \n",
       "2022-06-05  Image caption, President Faustin-Archange Toua...    0.5106   \n",
       "2022-06-02  You can now reportedly pay for your burritos a...   -0.1027   \n",
       "...                                                       ...       ...   \n",
       "2022-06-13  NEW YORK, June 13 (Reuters) - Binance U.S. and...    0.6597   \n",
       "2022-06-15  SINGAPORE, June 15 (Reuters) - Cryptocurrency ...    0.2732   \n",
       "2022-06-25  We are excited to bring Transform 2022 back in...    0.8655   \n",
       "2022-06-11  At CoinDesk's Consensus Festival here in Austi...    0.3182   \n",
       "2022-06-27  US stocks finished a choppy session lower on M...   -0.2960   \n",
       "\n",
       "            positive  neutral  negative  \n",
       "date                                     \n",
       "2022-06-03     0.000    0.902     0.098  \n",
       "2022-06-09     0.077    0.923     0.000  \n",
       "2022-06-08     0.124    0.876     0.000  \n",
       "2022-06-05     0.164    0.836     0.000  \n",
       "2022-06-02     0.000    0.960     0.040  \n",
       "...              ...      ...       ...  \n",
       "2022-06-13     0.141    0.859     0.000  \n",
       "2022-06-15     0.063    0.937     0.000  \n",
       "2022-06-25     0.263    0.737     0.000  \n",
       "2022-06-11     0.136    0.787     0.076  \n",
       "2022-06-27     0.000    0.937     0.062  \n",
       "\n",
       "[100 rows x 5 columns]"
      ]
     },
     "metadata": {},
     "output_type": "display_data"
    }
   ],
   "source": [
    "btc_df = pd.DataFrame(btc_sentiments)\n",
    "btc_df.set_index('date',inplace=True)\n",
    "btc_df.index = pd.to_datetime(btc_df.index)\n",
    "print(\"\\nBitcoin Sentiment\")\n",
    "display(btc_df)"
   ]
  },
  {
   "cell_type": "code",
   "execution_count": 13,
   "metadata": {},
   "outputs": [
    {
     "name": "stdout",
     "output_type": "stream",
     "text": [
      "\n",
      "Ethereum Sentiment\n"
     ]
    },
    {
     "data": {
      "text/html": [
       "<div>\n",
       "<style scoped>\n",
       "    .dataframe tbody tr th:only-of-type {\n",
       "        vertical-align: middle;\n",
       "    }\n",
       "\n",
       "    .dataframe tbody tr th {\n",
       "        vertical-align: top;\n",
       "    }\n",
       "\n",
       "    .dataframe thead th {\n",
       "        text-align: right;\n",
       "    }\n",
       "</style>\n",
       "<table border=\"1\" class=\"dataframe\">\n",
       "  <thead>\n",
       "    <tr style=\"text-align: right;\">\n",
       "      <th></th>\n",
       "      <th>text</th>\n",
       "      <th>compound</th>\n",
       "      <th>positive</th>\n",
       "      <th>neutral</th>\n",
       "      <th>negative</th>\n",
       "    </tr>\n",
       "    <tr>\n",
       "      <th>date</th>\n",
       "      <th></th>\n",
       "      <th></th>\n",
       "      <th></th>\n",
       "      <th></th>\n",
       "      <th></th>\n",
       "    </tr>\n",
       "  </thead>\n",
       "  <tbody>\n",
       "    <tr>\n",
       "      <th>2022-06-24</th>\n",
       "      <td>Sky Mavis, the developer of blockchain game Ax...</td>\n",
       "      <td>-0.7184</td>\n",
       "      <td>0.000</td>\n",
       "      <td>0.846</td>\n",
       "      <td>0.154</td>\n",
       "    </tr>\n",
       "    <tr>\n",
       "      <th>2022-06-23</th>\n",
       "      <td>Jim Cramer, the CNBC host whos reportedly wort...</td>\n",
       "      <td>0.5106</td>\n",
       "      <td>0.107</td>\n",
       "      <td>0.893</td>\n",
       "      <td>0.000</td>\n",
       "    </tr>\n",
       "    <tr>\n",
       "      <th>2022-06-18</th>\n",
       "      <td>The price of Ethereum has dropped below $1,250...</td>\n",
       "      <td>0.2732</td>\n",
       "      <td>0.063</td>\n",
       "      <td>0.937</td>\n",
       "      <td>0.000</td>\n",
       "    </tr>\n",
       "    <tr>\n",
       "      <th>2022-06-07</th>\n",
       "      <td>The ability to conduct external transfers on P...</td>\n",
       "      <td>0.3182</td>\n",
       "      <td>0.059</td>\n",
       "      <td>0.941</td>\n",
       "      <td>0.000</td>\n",
       "    </tr>\n",
       "    <tr>\n",
       "      <th>2022-06-09</th>\n",
       "      <td>A decentralized autonomous organization, or DA...</td>\n",
       "      <td>0.5859</td>\n",
       "      <td>0.134</td>\n",
       "      <td>0.866</td>\n",
       "      <td>0.000</td>\n",
       "    </tr>\n",
       "    <tr>\n",
       "      <th>...</th>\n",
       "      <td>...</td>\n",
       "      <td>...</td>\n",
       "      <td>...</td>\n",
       "      <td>...</td>\n",
       "      <td>...</td>\n",
       "    </tr>\n",
       "    <tr>\n",
       "      <th>2022-06-22</th>\n",
       "      <td>Now known as \"The Merge\", the Ethereum (ETH) u...</td>\n",
       "      <td>0.5994</td>\n",
       "      <td>0.133</td>\n",
       "      <td>0.867</td>\n",
       "      <td>0.000</td>\n",
       "    </tr>\n",
       "    <tr>\n",
       "      <th>2022-05-31</th>\n",
       "      <td>What happened\\r\\nAfter stocks rebounded last w...</td>\n",
       "      <td>0.4404</td>\n",
       "      <td>0.142</td>\n",
       "      <td>0.789</td>\n",
       "      <td>0.069</td>\n",
       "    </tr>\n",
       "    <tr>\n",
       "      <th>2022-06-22</th>\n",
       "      <td>What happened\\r\\nMost cryptocurrencies fell to...</td>\n",
       "      <td>0.0772</td>\n",
       "      <td>0.038</td>\n",
       "      <td>0.962</td>\n",
       "      <td>0.000</td>\n",
       "    </tr>\n",
       "    <tr>\n",
       "      <th>2022-06-11</th>\n",
       "      <td>What happened\\r\\nShares of many cryptocurrenci...</td>\n",
       "      <td>0.5267</td>\n",
       "      <td>0.124</td>\n",
       "      <td>0.876</td>\n",
       "      <td>0.000</td>\n",
       "    </tr>\n",
       "    <tr>\n",
       "      <th>2022-06-20</th>\n",
       "      <td>What happened\\r\\nMuch ado has been made of the...</td>\n",
       "      <td>-0.2732</td>\n",
       "      <td>0.055</td>\n",
       "      <td>0.862</td>\n",
       "      <td>0.084</td>\n",
       "    </tr>\n",
       "  </tbody>\n",
       "</table>\n",
       "<p>100 rows × 5 columns</p>\n",
       "</div>"
      ],
      "text/plain": [
       "                                                         text  compound  \\\n",
       "date                                                                      \n",
       "2022-06-24  Sky Mavis, the developer of blockchain game Ax...   -0.7184   \n",
       "2022-06-23  Jim Cramer, the CNBC host whos reportedly wort...    0.5106   \n",
       "2022-06-18  The price of Ethereum has dropped below $1,250...    0.2732   \n",
       "2022-06-07  The ability to conduct external transfers on P...    0.3182   \n",
       "2022-06-09  A decentralized autonomous organization, or DA...    0.5859   \n",
       "...                                                       ...       ...   \n",
       "2022-06-22  Now known as \"The Merge\", the Ethereum (ETH) u...    0.5994   \n",
       "2022-05-31  What happened\\r\\nAfter stocks rebounded last w...    0.4404   \n",
       "2022-06-22  What happened\\r\\nMost cryptocurrencies fell to...    0.0772   \n",
       "2022-06-11  What happened\\r\\nShares of many cryptocurrenci...    0.5267   \n",
       "2022-06-20  What happened\\r\\nMuch ado has been made of the...   -0.2732   \n",
       "\n",
       "            positive  neutral  negative  \n",
       "date                                     \n",
       "2022-06-24     0.000    0.846     0.154  \n",
       "2022-06-23     0.107    0.893     0.000  \n",
       "2022-06-18     0.063    0.937     0.000  \n",
       "2022-06-07     0.059    0.941     0.000  \n",
       "2022-06-09     0.134    0.866     0.000  \n",
       "...              ...      ...       ...  \n",
       "2022-06-22     0.133    0.867     0.000  \n",
       "2022-05-31     0.142    0.789     0.069  \n",
       "2022-06-22     0.038    0.962     0.000  \n",
       "2022-06-11     0.124    0.876     0.000  \n",
       "2022-06-20     0.055    0.862     0.084  \n",
       "\n",
       "[100 rows x 5 columns]"
      ]
     },
     "metadata": {},
     "output_type": "display_data"
    }
   ],
   "source": [
    "eth_df = pd.DataFrame(eth_sentiments)\n",
    "eth_df.set_index('date',inplace=True)\n",
    "eth_df.index = pd.to_datetime(eth_df.index)\n",
    "print(\"\\nEthereum Sentiment\")\n",
    "display(eth_df)"
   ]
  },
  {
   "cell_type": "code",
   "execution_count": 14,
   "metadata": {},
   "outputs": [],
   "source": [
    "btc_mean_pos = btc_df['positive'].mean()\n",
    "eth_mean_pos = eth_df['positive'].mean()\n",
    "\n",
    "btc_mean_neg =  btc_df['negative'].mean()\n",
    "eth_mean_neg =  eth_df['negative'].mean()\n",
    "\n",
    "btc_pos_max =  btc_df['positive'].max()\n",
    "eth_pos_max =  eth_df['positive'].max()\n",
    "\n",
    "btc_neg_max =  btc_df['negative'].max()\n",
    "eth_neg_max =  eth_df['negative'].max()"
   ]
  },
  {
   "cell_type": "code",
   "execution_count": 15,
   "metadata": {},
   "outputs": [
    {
     "name": "stdout",
     "output_type": "stream",
     "text": [
      "(Date: 2022-06-27)\n",
      " • btc_mean_pos: 0.069\n",
      " • eth_mean_pos: 0.081\n",
      " • btc_mean_neg: 0.062\n",
      " • eth_mean_neg: 0.057\n",
      " • btc_pos_max:  0.269\n",
      " • eth_pos_max:  0.349\n",
      " • btc_neg_max:  0.372\n",
      " • eth_neg_max:  0.372\n"
     ]
    }
   ],
   "source": [
    "print(f\"(Date: {datetime.date.today()})\")\n",
    "print(f\" • btc_mean_pos: {btc_mean_pos:.3f}\")\n",
    "print(f\" • eth_mean_pos: {eth_mean_pos:.3f}\")\n",
    "\n",
    "\n",
    "print(f\" • btc_mean_neg: {btc_mean_neg:.3f}\")\n",
    "print(f\" • eth_mean_neg: {eth_mean_neg:.3f}\")\n",
    "\n",
    "print(f\" • btc_pos_max:  {btc_pos_max:.3f}\")\n",
    "print(f\" • eth_pos_max:  {eth_pos_max:.3f}\")\n",
    "\n",
    "print(f\" • btc_neg_max:  {btc_neg_max:.3f}\")\n",
    "print(f\" • eth_neg_max:  {eth_neg_max:.3f}\")"
   ]
  },
  {
   "cell_type": "markdown",
   "metadata": {},
   "source": [
    "# *Sentiment Summary:*\n",
    "\n",
    "**Highest mean positive score: Ethereum (0.081)** > btc_mean_pos (0.069)\n",
    "\n",
    "**Highest mean negative score: Bitcoin (0.062)** > eth_mean_neg (0.057)\n",
    "\n",
    "**Maximum positive sentiment: Ethereum (0.349)** > Bitcoin (0.269)\n",
    "\n",
    "**Maximum negative sentiment: Tie (0.372)** (Possible logical error in API data)"
   ]
  },
  {
   "cell_type": "markdown",
   "metadata": {},
   "source": [
    "---"
   ]
  },
  {
   "cell_type": "markdown",
   "metadata": {
    "tags": []
   },
   "source": [
    "## 2. Natural Language Processing\n",
    "---\n",
    "###   Tokenizer\n",
    "\n",
    "In this section, NLTK and Python are used to tokenize the text for each coin. Steps:\n",
    "1. Lowercase each word.\n",
    "2. Remove Punctuation.\n",
    "3. Remove Stopwords."
   ]
  },
  {
   "cell_type": "code",
   "execution_count": 16,
   "metadata": {},
   "outputs": [],
   "source": [
    "# Instantiate the lemmatizer\n",
    "lemmatizer = WordNetLemmatizer()\n",
    "\n",
    "# Create a list of stopwords\n",
    "s_words = set(stopwords.words('english'))\n",
    "\n",
    "# Expand the default stopwords list if necessary\n",
    "\n",
    "# [placeholder for expanding stopwords]\n",
    "words_to_add = [\n",
    "\t\"even\",\n",
    "\t\"though\",\n",
    "\t\"chars\",\n",
    "\t\"reuters\",\n",
    "\t'bitcoin',\n",
    "\t'ethereum',\n",
    "\t'closebitcoin',\n",
    "\t'previous', \n",
    "\t'close',\n",
    "]\n",
    "for word in words_to_add:\n",
    "\ts_words.add(word) \n",
    "# s_words"
   ]
  },
  {
   "cell_type": "code",
   "execution_count": 17,
   "metadata": {
    "tags": []
   },
   "outputs": [],
   "source": [
    "btc_raw_text_array = btc_df.text.values\n",
    "btc_tokens = find_tokens(btc_raw_text_array)\n",
    "btc_token_list = btc_tokens.split(\" \")\n",
    "# btc_tokens"
   ]
  },
  {
   "cell_type": "code",
   "execution_count": 18,
   "metadata": {},
   "outputs": [],
   "source": [
    "eth_raw_text_array = eth_df.text.values\n",
    "eth_tokens = find_tokens(eth_raw_text_array)\n",
    "eth_token_list = eth_tokens.split(\" \")\n",
    "# eth_tokens"
   ]
  },
  {
   "cell_type": "markdown",
   "metadata": {},
   "source": [
    "---"
   ]
  },
  {
   "cell_type": "markdown",
   "metadata": {
    "tags": []
   },
   "source": [
    "### NGrams and Frequency Analysis\n",
    "\n",
    "In this section you will look at the ngrams and word frequency for each coin. \n",
    "\n",
    "1. Use NLTK to produce the n-grams for N = 2. \n",
    "2. List the top 10 words for each coin. "
   ]
  },
  {
   "cell_type": "code",
   "execution_count": 19,
   "metadata": {},
   "outputs": [],
   "source": [
    "btc_ngr = Counter(ngrams(btc_token_list, n=2))\n",
    "eth_ngr = Counter(ngrams(eth_token_list, n=2))"
   ]
  },
  {
   "cell_type": "code",
   "execution_count": 20,
   "metadata": {},
   "outputs": [
    {
     "data": {
      "text/plain": [
       "[(('crypto', 'lender'), 7),\n",
       " (('el', 'salvador'), 5),\n",
       " (('celsius', 'network'), 5),\n",
       " (('new', 'york'), 4),\n",
       " (('world', 'biggest'), 4),\n",
       " (('dropped', 'gmt'), 4),\n",
       " (('lender', 'celsius'), 4),\n",
       " (('elon', 'musk'), 4),\n",
       " (('digital', 'currency'), 3),\n",
       " (('losing', 'world'), 3)]"
      ]
     },
     "execution_count": 20,
     "metadata": {},
     "output_type": "execute_result"
    }
   ],
   "source": [
    "btc_ngr.most_common(10) # get the top 10 word pairs for Bitcoin"
   ]
  },
  {
   "cell_type": "code",
   "execution_count": 21,
   "metadata": {},
   "outputs": [
    {
     "data": {
      "text/plain": [
       "[(('cryptocurrency', 'market'), 5),\n",
       " (('crypto', 'winter'), 4),\n",
       " (('world', 'biggest'), 4),\n",
       " (('crypto', 'lender'), 4),\n",
       " (('dan', 'frommer'), 4),\n",
       " (('frommer', 'publication'), 4),\n",
       " (('publication', 'people'), 4),\n",
       " (('people', 'spend'), 4),\n",
       " (('spend', 'time'), 4),\n",
       " (('time', 'money'), 4)]"
      ]
     },
     "execution_count": 21,
     "metadata": {},
     "output_type": "execute_result"
    }
   ],
   "source": [
    "eth_ngr.most_common(10) # get the top 10 word pairs for Ethereum"
   ]
  },
  {
   "cell_type": "markdown",
   "metadata": {},
   "source": [
    "---"
   ]
  },
  {
   "cell_type": "markdown",
   "metadata": {},
   "source": [
    "### Word Clouds\n",
    "\n",
    "In this section, you will generate word clouds for each coin to summarize the news for each coin"
   ]
  },
  {
   "cell_type": "code",
   "execution_count": null,
   "metadata": {
    "tags": []
   },
   "outputs": [],
   "source": []
  },
  {
   "cell_type": "code",
   "execution_count": 22,
   "metadata": {},
   "outputs": [
    {
     "data": {
      "image/png": "[encoded data removed]",
      "text/plain": [
       "<Figure size 432x288 with 1 Axes>"
      ]
     },
     "metadata": {
      "needs_background": "light"
     },
     "output_type": "display_data"
    }
   ],
   "source": [
    "# Generate the Bitcoin word cloud\n",
    "cloud_btc = WordCloud(background_color='white').generate(btc_tokens)\n",
    "plt.axis(\"off\")\n",
    "plt.imshow(cloud_btc);"
   ]
  },
  {
   "cell_type": "code",
   "execution_count": 65,
   "metadata": {},
   "outputs": [
    {
     "data": {
      "image/png": "[encoded data removed]",
      "text/plain": [
       "<Figure size 432x720 with 1 Axes>"
      ]
     },
     "metadata": {
      "needs_background": "light"
     },
     "output_type": "display_data"
    }
   ],
   "source": [
    "ax = plt.figure(figsize=(6,10))\n",
    "\n",
    "# Generate the Ethereum word cloud\n",
    "cloud_eth = WordCloud(background_color='white').generate(eth_tokens)\n",
    "plt.axis(\"off\")\n",
    "eth_img = plt.imshow(cloud_eth);\n",
    "# plt.savefig(eth_img)\n"
   ]
  },
  {
   "cell_type": "markdown",
   "metadata": {},
   "source": [
    "---\n",
    "## 3. Named Entity Recognition\n",
    "\n",
    "In this section, you will build a named entity recognition model for both Bitcoin and Ethereum, then visualize the tags using SpaCy."
   ]
  },
  {
   "cell_type": "code",
   "execution_count": 24,
   "metadata": {},
   "outputs": [
    {
     "data": {
      "text/plain": [
       "<spacy.lang.en.English at 0x7fba814db290>"
      ]
     },
     "execution_count": 24,
     "metadata": {},
     "output_type": "execute_result"
    }
   ],
   "source": [
    "# Load the spaCy model\n",
    "nlp = spacy.load('en_core_web_sm')\n",
    "nlp"
   ]
  },
  {
   "cell_type": "markdown",
   "metadata": {},
   "source": [
    "---\n",
    "### Bitcoin NER"
   ]
  },
  {
   "cell_type": "code",
   "execution_count": 25,
   "metadata": {
    "collapsed": true,
    "jupyter": {
     "outputs_hidden": true
    },
    "tags": []
   },
   "outputs": [
    {
     "data": {
      "text/plain": [
       "'new york lawmakers passed bill would temporarily ban new mining operations early friday state senators voted pass legislation bound deskrapper entrepreneur shawn carter better known bringing place grew thursday former twitter ceo jack dorsey announced launchnew study calls question whether digital currency truly decentralized anonymous biggest devotees would believe researchers baylor riceimage caption president touadéra wants rethink country economic philosophy central african republic decision adopt legal tender came surprisereportedly pay burritos tacos digital currencies case mind spending coins directly instead going exchanges first flexajoe tidycyber reporter cryptocurrencies continued tumble week billions wiped value tokens like crash affecting investors worldwide includingcnn el salvador embraced like country government purchasing hundreds coins last year announced cryptocurrency would become legal tenderstephen dubner freakonomics radio installment recommended listening freakonomics radio begins series things blockchain podcast tackle everythingcustomers chipotle able pay burritos cryptocurrencies including ether dogecoin move could help crypto become mainstream accordingcelsius said plans next exhibition experience zones paris nft day conference celsius network decentralized finance defi platform one largestjune rose gmt monday adding world biggest cryptocurrency yearjune dropped gmt monday losing world biggest cryptocurrencysingapore june neared price level tuesday could force software firm microstrategy inc stake tokens loan trigger sellingjune dropped gmt thursday losing world biggest cryptocurrencyjune dropped gmt saturday losing world biggest cryptocurrencyjune dropped gmt saturday losing earlier day sank far lowest point sinceterra launching new blockchain new luna token seth green animated show starring stolen nft air largest stablecoin issuer world launched tokenterra launched new blockchain new luna token today seth green animated show starring stolen nft air largest stablecoin issuer world launched tokenjune miners forced tap cryptocurrency stashes plunge prices rising energy costs increased competition bite profitability numbercryptocurrencies grown value mining become major industry publicly traded crypto mining companies like riot blockchain marathon digital holdings worthinvestors convenient way bet profit decline today launch proshares short strategy etf proshares launched firstbuenos aires may crypstation cafe downtown buenos aires trendy young argentines order lattes pastries surrounded screens cryptocurrency pricelondon june fell wednesday new low dragging smaller tokens recent tumble crypto markets showed sign letting worldjune sunday rose around signaling recovery sharp drop saturday world biggestcoinbase stock fell much monday amid broader crypto selloff slashed billions total market value shares popular cryptocurrency platform changing handsposted steadied tuesday earlier hitting new low major crypto lender celsius network freezing withdrawals prospect sharp interest rateposted somalia foreign minister suspended coal export warned companies business sudan five business stories making headlinesposted deepening blues kellogg splits round bit stories business finance week june ilan rubens reportsposted tech firm lost bln digital currency robert cyran explains investors still oddly paying premium companys woebegone strategysan salvador june el salvador finance minister alejandro zelaya monday dismissed concerns sharp drop value could hurt central american nationmay assumed crypto young person game think people united states ever turning cryptocurrencies help fund retirementposted tumbled wednesday new low dragging smaller tokens spurring sharp fall crypto markets sparked crypto lender celsius freezing customeryoutube criticised failing tackle network streaming fake elon musk videos scam viewers criminals hijacking youtube accounts using videosprice fallen amid deepening turmoil cryptocurrency markets cornerstone digital asset markets slipped levels seen sincerequires vast amounts electricity facilitate transactions around globe twice energy usage per year apple facebook google microsoft amazon combinedclawed way back weekend managing hit monday popular cryptocurrency price fell saturday continued dropping sundayjune crypto winter creeps june first signs thaw emerging investors betting bottoming judging money headingjune crypto winter creeps june first signs thaw emerging investors betting bottoming judging money headingcratered investors shed riskier assets amid fed rate hikes el salvador seen token holdings plunge central american country made cryptocurrency legalcryptocurrency lending platform celsius network halted withdrawals extreme market conditions value digital asset market slipped 1tn droppedinvestment product provider proshares set list first fund etf allowing investors bet price btc proshares short strategysingapore june software firm microstrategy said received margin call borrowing wednesday plenty extra collateraltesla spacex ceo elon musk says super bad feeling economy president joe biden responded list major investments large corporations wished musk luckposted fresh meltdown sparked freeze withdrawals crypto lender celsius one group people making money turmoil round week big storieshong kong june cryptocurrencies tumbled afresh tuesday ether falling new lows major cryptocurrency lending company celsius network freezinglondon june el salvador bet slashed tuesday half million country publicly disclosed purchases dropped valuefine print following comments owned whoever posted responsible wayability conduct external transfers paypal crypto platform image seen start rolling users today available everyone nextbad old days prospecting gold grisly business involving hysterical crowds pickaxes digging wearing appalling hats standing rivers panning nuggets staking claimsaugust adam masato stumbled upon video youtube creator robuilt outlining makes money renting tiny homes airbnb joshua tree california timereal estate investor adam masato makes month passive income airbnb rental getting startup costs fund project presented unique challenge besidescrash seen token value erased hitting el salvador big way approved crypto legal tender september country lost roughlysecret cryptocurrency market taken serious hit past several months gemini crypto exchange custodian founded cameron tyler winklevoss facedcryptocurrency market could respite nature means hiatus trading digital assets runs unlikelead researcher alyssa blackburn baylor rice along christoph huber yossi eliaz muhammad shamim david weisz goutham seshadri kevin kim shengqi hang erezmarcy houses public housing development brooklyns neighborhood pillar new york persona built parttesla leaned hard purchasing currency since time tesla investment price fallen dramatically interesting seelook day ahead markets dhara ranasinghe top surging inflation rising interest rates growing global recession risks markets europe waking mondaymicrostrategy ceo michael saylor regrets turning company stock highly levered bet price cryptocurrency continued declinemay fidelity investments digital assets arm double hiring year looks beef resources serve clients want invest crypto assets tradehong kong june cryptocurrency industry edge monday morning investors feared contagion problems major crypto players could unleash major shakeoutoriginal cryptocurrency remains bellwether sector hit high us november overall value cryptocurrencyftx sam provided million loan bail struggling crypto lender blockfi digital asset companies continue reel ongoing market crash crypto billionaireexcited bring transform back july virtually july join ai data leaders insightful talks exciting networking opportunities register today cryptolondon june value cryptocurrency market monday fell trillion first time since january according data site coinmarketcap reaching lowjune people reported losing billion cryptocurrency scams since start federal trade commission ftc said report friday nearlyjune babel finance hong crypto lender suspended withdrawals redemption crypto assets friday said reached agreement counterpartiesottawa june number canadians cryptoassets growing rapidly efforts regulate sector need start keeping pace senior bank canada official saidjune new york state legislature passed bill would impose moratorium use power plants provide energy miners cryptocurrenciesearly may microstrategy ceo michael saylor took twitter proclaim trust best hedge inflation tweeted citing evidencedogecoin jumped nearly lows sunday elon musk said would continue buy cryptocurrency coin rose space hours musk tweetedwhether prices many investors cryptocurrency real appeal nobody charge crowd chanted recent conference miamibear market sucked life many popular cryptocurrencies total crypto market capitalization falling trillion around trillion todaybear market sucked life many popular cryptocurrencies total crypto market capitalization falling trillion around trillion todayus stocks plunged thursday amp p erasing gains generated investors continue digest recent interest rate hikes global central banks worryorlando june regulators thought crypto dangerous place lured investors good true opportunities ask searchinginvestors load bargain stocks bonds right rather waiting exactly time market bottom according howard marks legendary investor said yearcrypto something thats bought sold like stock publicly traded company commodity something interact futures agreements questiontesla ceo elon musk gestures visits construction site tesla gigafactory gruenheide near berlin germany august patrick via reutersnov sharesthings necessarily looking great crypto world reports popular coins tumbling recent weeks market tanks valuation many investors digital portfolios bloombergwashington may new york couple accused laundering billion cryptocurrency tied hack digital currency exchange bitfinex still negotiating possiblejune crypto hedge fund three arrows capital failed meet margin calls past weekend cryptocurrency prices slid according report financialmajor crypto lender celsius network froze customers accounts monday promising years would act like traditional bank celsius founder alex mashinsky repeatedlyjune hong babel finance temporarily suspended withdrawals redemption crypto assets friday crypto lender scrambles pay clients recentcrypto roller coaster ride continues plummet downhill fast coinbase one largest cryptocurrency exchange platforms laying staff employees accordingbloodbath cryptocurrency sector may claim another victim multibillion dollar hedge fund three arrows capital using twitter attempt battle rumoursweve combined printing secure nfc chips create easiest use cold storage product note uses multisig combines local encrypted key privatesaturday june 4th octagon networks finished process converting liquid assets entire balance sheet also start accepting paymentscryptocurrency hedge funds likely fail broad market turmoil continues mike novogratz said wednesday bloomberg first reported galaxy holdings chief executive toldjune decade passed since created yet lawmakers regulators continue wade important questions regulator permittedlondon price fell first time since late saturday fresh sign selloff cryptocurrencies deepening popularelon musk ceo tesla spacex sued billion plaintiff keith johnson claims musk along companies engaged crypto pyramid scheme waycybercriminals made million cryptocurrency hacking horizon blockchain bridge company said harmony blockchain startup behind horizon tweeted latejune crypto market hot mess leaving many investors struggling turn buck enter arbitrageurs cryptocurrencies either shackled rangeslisbon june portugal biggest soccer club benfica become country first join crypto craze partnering fan engagement firmnew york june binance ceo sued monday investor alleges cryptocurrency exchange falsely marketed terra usd safe asset aheadsingapore june cryptocurrency hedge fund three arrows capital said wednesday committed working things seemingly addressing social media chatter facingexcited bring transform back july virtually july join ai data leaders insightful talks exciting networking opportunities register today evercoindesk consensus festival austin tbd subsidiary dorsey block sq announced new vision decentralized internet layer friday name webus stocks finished choppy session lower monday rebounding sharply last week investors look final trading days second quarter last week dow jones industrial'"
      ]
     },
     "execution_count": 25,
     "metadata": {},
     "output_type": "execute_result"
    }
   ],
   "source": [
    "# Concatenate all of the Bitcoin text together\n",
    "btc_tokens"
   ]
  },
  {
   "cell_type": "code",
   "execution_count": 26,
   "metadata": {},
   "outputs": [],
   "source": [
    "btc_doc = nlp(btc_tokens) # Run the NER processor on all of the text\n",
    "btc_doc.user_data[\"Title\"] = \"Creative Title\" # Add a title to the document\n",
    "displacy.render(btc_doc,style=\"ent\") # Render the visualization"
   ]
  },
  {
   "cell_type": "code",
   "execution_count": 28,
   "metadata": {
    "collapsed": true,
    "jupyter": {
     "outputs_hidden": true
    },
    "tags": []
   },
   "outputs": [
    {
     "name": "stdout",
     "output_type": "stream",
     "text": [
      "new york GPE\n",
      "early friday DATE\n",
      "thursday DATE\n",
      "ceo jack dorsey PERSON\n",
      "first ORDINAL\n",
      "el salvador GPE\n",
      "hundreds CARDINAL\n",
      "last year DATE\n",
      "paris GPE\n",
      "day DATE\n",
      "one CARDINAL\n",
      "monday DATE\n",
      "monday DATE\n",
      "june DATE\n",
      "tuesday DATE\n",
      "microstrategy inc ORG\n",
      "thursday DATE\n",
      "saturday DATE\n",
      "saturday DATE\n",
      "earlier day DATE\n",
      "today DATE\n",
      "tokenjune ORG\n",
      "today DATE\n",
      "etf ORG\n",
      "june DATE\n",
      "wednesday DATE\n",
      "sunday DATE\n",
      "saturday DATE\n",
      "monday DATE\n",
      "billions CARDINAL\n",
      "tuesday DATE\n",
      "five CARDINAL\n",
      "kellogg ORG\n",
      "june DATE\n",
      "digital ORG\n",
      "robert cyran PERSON\n",
      "el salvador GPE\n",
      "monday DATE\n",
      "american NORP\n",
      "united states GPE\n",
      "wednesday DATE\n",
      "elon musk TIME\n",
      "monday DATE\n",
      "saturday DATE\n",
      "winter DATE\n",
      "el salvador GPE\n",
      "american NORP\n",
      "1tn ORDINAL\n",
      "june DATE\n",
      "wednesday DATE\n",
      "joe biden PERSON\n",
      "one CARDINAL\n",
      "storieshong kong GPE\n",
      "june DATE\n",
      "tuesday DATE\n",
      "el salvador GPE\n",
      "tuesday DATE\n",
      "half million CARDINAL\n",
      "today DATE\n",
      "california GPE\n",
      "el salvador GPE\n",
      "september DATE\n",
      "cameron tyler ORG\n",
      "muhammad shamim david weisz goutham PERSON\n",
      "kevin kim PERSON\n",
      "new york GPE\n",
      "seelook day DATE\n",
      "europe LOC\n",
      "michael saylor PERSON\n",
      "june DATE\n",
      "monday DATE\n",
      "morning TIME\n",
      "november DATE\n",
      "cryptocurrencyftx sam PERSON\n",
      "million CARDINAL\n",
      "crypto lender blockfi digital asset companies ORG\n",
      "july DATE\n",
      "july DATE\n",
      "today DATE\n",
      "june DATE\n",
      "monday DATE\n",
      "first ORDINAL\n",
      "january DATE\n",
      "billion CARDINAL\n",
      "start federal trade commission ORG\n",
      "ftc ORG\n",
      "friday DATE\n",
      "hong crypto GPE\n",
      "friday DATE\n",
      "june DATE\n",
      "canadians NORP\n",
      "bank canada ORG\n",
      "new york GPE\n",
      "michael saylor PERSON\n",
      "sunday elon musk DATE\n",
      "hours musk TIME\n",
      "trillion around trillion MONEY\n",
      "trillion around trillion MONEY\n",
      "thursday DATE\n",
      "june DATE\n",
      "berlin germany GPE\n",
      "august DATE\n",
      "recent weeks DATE\n",
      "bloombergwashington GPE\n",
      "new york GPE\n",
      "three CARDINAL\n",
      "past weekend DATE\n",
      "monday promising years DATE\n",
      "alex mashinsky PERSON\n",
      "hong babel GPE\n",
      "friday DATE\n",
      "one CARDINAL\n",
      "three CARDINAL\n",
      "4th ORDINAL\n",
      "octagon ORG\n",
      "mike novogratz PERSON\n",
      "wednesday DATE\n",
      "toldjune decade DATE\n",
      "first ORDINAL\n",
      "late saturday TIME\n",
      "billion CARDINAL\n",
      "keith johnson PERSON\n",
      "million CARDINAL\n",
      "june DATE\n",
      "portugal GPE\n",
      "first ORDINAL\n",
      "june DATE\n",
      "monday DATE\n",
      "june DATE\n",
      "three CARDINAL\n",
      "wednesday DATE\n",
      "july DATE\n",
      "july DATE\n",
      "today DATE\n",
      "friday DATE\n",
      "monday DATE\n",
      "last week DATE\n",
      "days second quarter last week DATE\n",
      "dow jones ORG\n"
     ]
    }
   ],
   "source": [
    "# List all Entities\n",
    "for element in btc_doc.ents:\n",
    "    print(element.text, element.label_)"
   ]
  },
  {
   "cell_type": "markdown",
   "metadata": {},
   "source": [
    "---"
   ]
  },
  {
   "cell_type": "markdown",
   "metadata": {},
   "source": [
    "### Ethereum NER"
   ]
  },
  {
   "cell_type": "code",
   "execution_count": 56,
   "metadata": {},
   "outputs": [],
   "source": [
    "# eth_tokens # Concatenate all of the Ethereum text together\n",
    "\n",
    "# Run the NER processor on all of the text\n",
    "\n",
    "# Add a title to the document\n",
    "eth_doc = nlp(eth_tokens) # Run the NER processor on all of the text\n",
    "eth_doc.user_data[\"Title\"] = \"Ethereum NER\" # Add a title to the document\n",
    "\n",
    "# Render the visualization\n",
    "eth_ner = displacy.render(eth_doc,style=\"ent\")"
   ]
  },
  {
   "cell_type": "code",
   "execution_count": 32,
   "metadata": {
    "tags": []
   },
   "outputs": [
    {
     "name": "stdout",
     "output_type": "stream",
     "text": [
      "sky mavis PERSON\n",
      "million CARDINAL\n",
      "earlier year DATE\n",
      "worth least million CARDINAL\n",
      "brooklyn GPE\n",
      "new england connecticut maine ORG\n",
      "massachusetts GPE\n",
      "today DATE\n",
      "two CARDINAL\n",
      "first ORDINAL\n",
      "early friday DATE\n",
      "ebay ORG\n",
      "ebay ORG\n",
      "today DATE\n",
      "one CARDINAL\n",
      "thursday DATE\n",
      "saturday DATE\n",
      "monday DATE\n",
      "monday DATE\n",
      "yudkowsky PERSON\n",
      "elon musk TIME\n",
      "sunday elon musk DATE\n",
      "hours musk TIME\n",
      "several years ago DATE\n",
      "kim kardashian PERSON\n",
      "nba ORG\n",
      "third ORDINAL\n",
      "wednesday DATE\n",
      "new york GPE\n",
      "gallon CARDINAL\n",
      "hong crypto GPE\n",
      "friday DATE\n",
      "kristen CARDINAL\n",
      "three CARDINAL\n",
      "monday DATE\n",
      "billions CARDINAL\n",
      "hong babel GPE\n",
      "friday DATE\n",
      "sunday DATE\n",
      "saturday DATE\n",
      "biggestgeorge soros WORK_OF_ART\n",
      "million CARDINAL\n",
      "three CARDINAL\n",
      "yearalgorand smart PERSON\n",
      "july DATE\n",
      "july DATE\n",
      "today DATE\n",
      "recent years DATE\n",
      "earlierftx sam PERSON\n",
      "million CARDINAL\n",
      "crypto lender blockfi digital asset companies ORG\n",
      "cameron tyler ORG\n",
      "chevrolet ORG\n",
      "web3 LOC\n",
      "xsullo ORG\n",
      "first ORDINAL\n",
      "late saturday TIME\n",
      "1tn ORDINAL\n",
      "last two years DATE\n",
      "gpu committedkitco news PERSON\n",
      "dan frommer PERSON\n",
      "recent weeks DATE\n",
      "powell central bank ORG\n",
      "first ORDINAL\n",
      "dan frommer PERSON\n",
      "dan frommer PERSON\n",
      "dan frommer PERSON\n",
      "november DATE\n",
      "nearly year DATE\n",
      "last november DATE\n",
      "week DATE\n",
      "first time year DATE\n",
      "winter DATE\n",
      "year eth rough DATE\n",
      "months DATE\n",
      "november DATE\n",
      "two CARDINAL\n",
      "one CARDINAL\n",
      "two CARDINAL\n",
      "around years DATE\n",
      "differentkid PERSON\n",
      "later year DATE\n",
      "years ago DATE\n",
      "miami GPE\n",
      "winter DATE\n",
      "may week DATE\n",
      "week DATE\n",
      "june DATE\n",
      "first ORDINAL\n",
      "vitalik buterin PERSON\n",
      "august DATE\n",
      "motley PERSON\n",
      "saturday DATE\n",
      "trillions CARDINAL\n",
      "michael novogratz PERSON\n",
      "last october DATE\n",
      "last week DATE\n",
      "late 1980s DATE\n",
      "year DATE\n",
      "billion CARDINAL\n",
      "four CARDINAL\n",
      "thursday DATE\n",
      "end week DATE\n",
      "friday DATE\n",
      "today DATE\n",
      "today DATE\n",
      "last week DATE\n",
      "weekend DATE\n",
      "last hours TIME\n",
      "last week DATE\n",
      "holiday weekend DATE\n",
      "nicely weeks DATE\n",
      "last hours TIME\n",
      "today DATE\n",
      "last week DATE\n",
      "downward week DATE\n"
     ]
    }
   ],
   "source": [
    "# List all Entities\n",
    "for element in eth_doc.ents:\n",
    "    print(element.text, element.label_)"
   ]
  },
  {
   "cell_type": "markdown",
   "metadata": {},
   "source": [
    "---"
   ]
  },
  {
   "cell_type": "code",
   "execution_count": null,
   "metadata": {},
   "outputs": [],
   "source": []
  }
 ],
 "metadata": {
  "file_extension": ".py",
  "kernelspec": {
   "display_name": "Python 3 (ipykernel)",
   "language": "python",
   "name": "python3"
  },
  "language_info": {
   "codemirror_mode": {
    "name": "ipython",
    "version": 3
   },
   "file_extension": ".py",
   "mimetype": "text/x-python",
   "name": "python",
   "nbconvert_exporter": "python",
   "pygments_lexer": "ipython3",
   "version": "3.7.13"
  },
  "mimetype": "text/x-python",
  "name": "python",
  "npconvert_exporter": "python",
  "pygments_lexer": "ipython3",
  "version": 3
 },
 "nbformat": 4,
 "nbformat_minor": 4
}
